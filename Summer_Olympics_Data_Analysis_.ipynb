{
  "nbformat": 4,
  "nbformat_minor": 0,
  "metadata": {
    "colab": {
      "name": "Summer Olympics Data Analysis .ipynb",
      "provenance": []
    },
    "kernelspec": {
      "name": "python3",
      "display_name": "Python 3"
    },
    "language_info": {
      "name": "python"
    }
  },
  "cells": [
    {
      "cell_type": "markdown",
      "metadata": {
        "id": "nK01ybNzXy-_"
      },
      "source": [
        "# **Summer Olympics Data Analysis**"
      ]
    },
    {
      "cell_type": "code",
      "metadata": {
        "colab": {
          "base_uri": "https://localhost:8080/",
          "height": 204
        },
        "id": "1UbsQ1C2YGO0",
        "outputId": "382f231d-1551-4527-c6ea-cd79b44fb767"
      },
      "source": [
        "import pandas as pd\n",
        "import numpy as np\n",
        "import matplotlib.pyplot as plt\n",
        "\n",
        "df= pd.read_csv(\"summer.csv\")\n",
        "df.head()"
      ],
      "execution_count": 1,
      "outputs": [
        {
          "output_type": "execute_result",
          "data": {
            "text/html": [
              "<div>\n",
              "<style scoped>\n",
              "    .dataframe tbody tr th:only-of-type {\n",
              "        vertical-align: middle;\n",
              "    }\n",
              "\n",
              "    .dataframe tbody tr th {\n",
              "        vertical-align: top;\n",
              "    }\n",
              "\n",
              "    .dataframe thead th {\n",
              "        text-align: right;\n",
              "    }\n",
              "</style>\n",
              "<table border=\"1\" class=\"dataframe\">\n",
              "  <thead>\n",
              "    <tr style=\"text-align: right;\">\n",
              "      <th></th>\n",
              "      <th>Year</th>\n",
              "      <th>City</th>\n",
              "      <th>Sport</th>\n",
              "      <th>Discipline</th>\n",
              "      <th>Athlete</th>\n",
              "      <th>Country</th>\n",
              "      <th>Gender</th>\n",
              "      <th>Event</th>\n",
              "      <th>Medal</th>\n",
              "    </tr>\n",
              "  </thead>\n",
              "  <tbody>\n",
              "    <tr>\n",
              "      <th>0</th>\n",
              "      <td>1896</td>\n",
              "      <td>Athens</td>\n",
              "      <td>Aquatics</td>\n",
              "      <td>Swimming</td>\n",
              "      <td>HAJOS, Alfred</td>\n",
              "      <td>HUN</td>\n",
              "      <td>Men</td>\n",
              "      <td>100M Freestyle</td>\n",
              "      <td>Gold</td>\n",
              "    </tr>\n",
              "    <tr>\n",
              "      <th>1</th>\n",
              "      <td>1896</td>\n",
              "      <td>Athens</td>\n",
              "      <td>Aquatics</td>\n",
              "      <td>Swimming</td>\n",
              "      <td>HERSCHMANN, Otto</td>\n",
              "      <td>AUT</td>\n",
              "      <td>Men</td>\n",
              "      <td>100M Freestyle</td>\n",
              "      <td>Silver</td>\n",
              "    </tr>\n",
              "    <tr>\n",
              "      <th>2</th>\n",
              "      <td>1896</td>\n",
              "      <td>Athens</td>\n",
              "      <td>Aquatics</td>\n",
              "      <td>Swimming</td>\n",
              "      <td>DRIVAS, Dimitrios</td>\n",
              "      <td>GRE</td>\n",
              "      <td>Men</td>\n",
              "      <td>100M Freestyle For Sailors</td>\n",
              "      <td>Bronze</td>\n",
              "    </tr>\n",
              "    <tr>\n",
              "      <th>3</th>\n",
              "      <td>1896</td>\n",
              "      <td>Athens</td>\n",
              "      <td>Aquatics</td>\n",
              "      <td>Swimming</td>\n",
              "      <td>MALOKINIS, Ioannis</td>\n",
              "      <td>GRE</td>\n",
              "      <td>Men</td>\n",
              "      <td>100M Freestyle For Sailors</td>\n",
              "      <td>Gold</td>\n",
              "    </tr>\n",
              "    <tr>\n",
              "      <th>4</th>\n",
              "      <td>1896</td>\n",
              "      <td>Athens</td>\n",
              "      <td>Aquatics</td>\n",
              "      <td>Swimming</td>\n",
              "      <td>CHASAPIS, Spiridon</td>\n",
              "      <td>GRE</td>\n",
              "      <td>Men</td>\n",
              "      <td>100M Freestyle For Sailors</td>\n",
              "      <td>Silver</td>\n",
              "    </tr>\n",
              "  </tbody>\n",
              "</table>\n",
              "</div>"
            ],
            "text/plain": [
              "   Year    City     Sport  ... Gender                       Event   Medal\n",
              "0  1896  Athens  Aquatics  ...    Men              100M Freestyle    Gold\n",
              "1  1896  Athens  Aquatics  ...    Men              100M Freestyle  Silver\n",
              "2  1896  Athens  Aquatics  ...    Men  100M Freestyle For Sailors  Bronze\n",
              "3  1896  Athens  Aquatics  ...    Men  100M Freestyle For Sailors    Gold\n",
              "4  1896  Athens  Aquatics  ...    Men  100M Freestyle For Sailors  Silver\n",
              "\n",
              "[5 rows x 9 columns]"
            ]
          },
          "metadata": {},
          "execution_count": 1
        }
      ]
    },
    {
      "cell_type": "markdown",
      "metadata": {
        "id": "xATKNKfYZZqc"
      },
      "source": [
        "**1. In how many cities Summer Olympics is held so far?**"
      ]
    },
    {
      "cell_type": "code",
      "metadata": {
        "colab": {
          "base_uri": "https://localhost:8080/"
        },
        "id": "tiZ8maAgZno5",
        "outputId": "2a8da05a-25f0-42a4-f4e6-0bdf094af6e5"
      },
      "source": [
        "no_of_city = len(df['City'].unique())\n",
        "print('There are total', no_of_city,'city hosted the Summer Olympics so far.')"
      ],
      "execution_count": 12,
      "outputs": [
        {
          "output_type": "stream",
          "name": "stdout",
          "text": [
            "There are total 22 city hosted the Summer Olympics so far.\n"
          ]
        }
      ]
    },
    {
      "cell_type": "markdown",
      "metadata": {
        "id": "beFORyoUZ9-O"
      },
      "source": [
        "**2. Which sport is having most number of Gold Medals so far? (Top 5)**"
      ]
    },
    {
      "cell_type": "code",
      "metadata": {
        "colab": {
          "base_uri": "https://localhost:8080/",
          "height": 585
        },
        "id": "UoGh6QYXaKqL",
        "outputId": "702b26f1-b972-44bd-e082-817308125417"
      },
      "source": [
        "df = pd.read_csv('summer.csv')\n",
        "\n",
        "gold_data= df[df[\"Medal\"]==\"Gold\"]\n",
        "data=[]\n",
        "\n",
        "for sport in gold_data['Sport'].unique():\n",
        "  data.append([sport , len(gold_data[gold_data['Sport']  == sport])])\n",
        "gold = pd.DataFrame(data, columns=['Sport','Num_Gold_Medal'])\n",
        "gold = gold.sort_values(by = 'Num_Gold_Medal', ascending = False).head()\n",
        "\n",
        "print('Top 5 Sport having Highest number Gold Medal \\n')\n",
        "print(gold)\n",
        "print('\\n')\n",
        "\n",
        "gold.plot(x = 'Sport', y = 'Num_Gold_Medal', kind = 'bar' ,ylabel = 'Number of Gold Medal', figsize = (10,5), title = 'Most Gold Medal won in Sport')"
      ],
      "execution_count": 13,
      "outputs": [
        {
          "output_type": "stream",
          "name": "stdout",
          "text": [
            "Top 5 Sport having Highest number Gold Medal \n",
            "\n",
            "         Sport  Num_Gold_Medal\n",
            "0     Aquatics            1421\n",
            "1    Athletics            1215\n",
            "17      Rowing             890\n",
            "4   Gymnastics             820\n",
            "3      Fencing             552\n",
            "\n",
            "\n"
          ]
        },
        {
          "output_type": "execute_result",
          "data": {
            "text/plain": [
              "<matplotlib.axes._subplots.AxesSubplot at 0x7ffae0507590>"
            ]
          },
          "metadata": {},
          "execution_count": 13
        },
        {
          "output_type": "display_data",
          "data": {
            "image/png": "[encoded data removed]",
            "text/plain": [
              "<Figure size 720x360 with 1 Axes>"
            ]
          },
          "metadata": {
            "needs_background": "light"
          }
        }
      ]
    },
    {
      "cell_type": "markdown",
      "metadata": {
        "id": "eINmgIGMbjAH"
      },
      "source": [
        "**3. Which sport is having most number of medals so far? (Top 5)**"
      ]
    },
    {
      "cell_type": "code",
      "metadata": {
        "colab": {
          "base_uri": "https://localhost:8080/",
          "height": 585
        },
        "id": "zEtGfEXabjkH",
        "outputId": "22d7d535-2e57-45e1-d2db-6b23c266a01e"
      },
      "source": [
        "df = pd.read_csv('summer.csv')                                                  \n",
        "\n",
        "data = []\n",
        "\n",
        "for sport in df['Sport'].unique():\n",
        "  data.append([sport , len(df[df['Sport']  == sport])])\n",
        "medal = pd.DataFrame(data, columns=['Sport','Num_Medal'])                       \n",
        "medal = medal.sort_values(by = 'Num_Medal', ascending = False).head() \n",
        "\n",
        "print('Top 5 sports having most medal won \\n')\n",
        "print(medal)                                                                   \n",
        "print('\\n')\n",
        "\n",
        "medal.plot(x = 'Sport' , y = 'Num_Medal', ylabel= 'Number of Medal', kind = 'bar', figsize = (10,5), title = 'Most Medal won in Sports (Top 5)')"
      ],
      "execution_count": 14,
      "outputs": [
        {
          "output_type": "stream",
          "name": "stdout",
          "text": [
            "Top 5 sports having most medal won \n",
            "\n",
            "         Sport  Num_Medal\n",
            "0     Aquatics       4170\n",
            "1    Athletics       3638\n",
            "17      Rowing       2667\n",
            "4   Gymnastics       2307\n",
            "3      Fencing       1613\n",
            "\n",
            "\n"
          ]
        },
        {
          "output_type": "execute_result",
          "data": {
            "text/plain": [
              "<matplotlib.axes._subplots.AxesSubplot at 0x7ffae0913110>"
            ]
          },
          "metadata": {},
          "execution_count": 14
        },
        {
          "output_type": "display_data",
          "data": {
            "image/png": "[encoded data removed]",
            "text/plain": [
              "<Figure size 720x360 with 1 Axes>"
            ]
          },
          "metadata": {
            "needs_background": "light"
          }
        }
      ]
    },
    {
      "cell_type": "markdown",
      "metadata": {
        "id": "CVKckIx1cDkr"
      },
      "source": [
        "**4. Which player has won most number of medals? (Top 5)**"
      ]
    },
    {
      "cell_type": "code",
      "metadata": {
        "colab": {
          "base_uri": "https://localhost:8080/",
          "height": 644
        },
        "id": "IgsN9tfjcDwm",
        "outputId": "0d55764a-595a-4cd6-b121-88214a54c8a3"
      },
      "source": [
        "df = pd.read_csv('summer.csv')                                                 \n",
        "\n",
        "data = []\n",
        "\n",
        "for athlete in df['Athlete'].unique():\n",
        "  data.append([athlete , len(df[df['Athlete']  == athlete])])\n",
        "athlete = pd.DataFrame(data, columns=['Athlete','Num_Medal'])                  \n",
        "athlete = athlete.sort_values(by = 'Num_Medal', ascending = False).head()  \n",
        "\n",
        "print('Top 5 Athlete whose won most medals \\n')\n",
        "print(athlete)                                                                  \n",
        "print('\\n')\n",
        "\n",
        "athlete.plot(x = 'Athlete' , y = 'Num_Medal', ylabel= 'Number of Medal', kind = 'bar', figsize = (10,5), title = 'Most Medal won by Athlete (Top 5)')"
      ],
      "execution_count": 15,
      "outputs": [
        {
          "output_type": "stream",
          "name": "stdout",
          "text": [
            "Top 5 Athlete whose won most medals \n",
            "\n",
            "                    Athlete  Num_Medal\n",
            "18640       PHELPS, Michael         22\n",
            "7197       LATYNINA, Larisa         18\n",
            "9948     ANDRIANOV, Nikolay         15\n",
            "6591           ONO, Takashi         13\n",
            "5103   MANGIAROTTI, Edoardo         13\n",
            "\n",
            "\n"
          ]
        },
        {
          "output_type": "execute_result",
          "data": {
            "text/plain": [
              "<matplotlib.axes._subplots.AxesSubplot at 0x7ffae050b650>"
            ]
          },
          "metadata": {},
          "execution_count": 15
        },
        {
          "output_type": "display_data",
          "data": {
            "image/png": "[encoded data removed]",
            "text/plain": [
              "<Figure size 720x360 with 1 Axes>"
            ]
          },
          "metadata": {
            "needs_background": "light"
          }
        }
      ]
    },
    {
      "cell_type": "markdown",
      "metadata": {
        "id": "xYwL1_Sbc3b-"
      },
      "source": [
        "**5. Which player has won most number Gold Medals of medals? (Top 5)**"
      ]
    },
    {
      "cell_type": "code",
      "metadata": {
        "colab": {
          "base_uri": "https://localhost:8080/",
          "height": 612
        },
        "id": "aVu4NNvIdNtH",
        "outputId": "94e85252-007f-44d9-b346-185d657d0ebf"
      },
      "source": [
        "df = pd.read_csv('summer.csv')                                                  \n",
        "\n",
        "gold_data= df[df[\"Medal\"]==\"Gold\"]                                              \n",
        "data=[]\n",
        "\n",
        "for athlete in gold_data['Athlete'].unique():\n",
        "  data.append([athlete , len(gold_data[gold_data['Athlete']  == athlete])])\n",
        "athlete = pd.DataFrame(data, columns=['Athlete','Medal_Num'])                   \n",
        "athlete = athlete.sort_values(by = 'Medal_Num', ascending = False).head()       \n",
        "\n",
        "print('Top 5 Athlete whose won most Gold medals \\n')\n",
        "print(athlete)                                                                  \n",
        "print('\\n')\n",
        "\n",
        "athlete.plot(x = 'Athlete' , y = 'Medal_Num', ylabel= 'Number of Gold Medal', kind = 'bar', figsize = (10,5), title = 'Most Gold Medal won by Athlete (Top 5)')"
      ],
      "execution_count": 21,
      "outputs": [
        {
          "output_type": "stream",
          "name": "stdout",
          "text": [
            "Top 5 Athlete whose won most Gold medals \n",
            "\n",
            "               Athlete  Medal_Num\n",
            "6851   PHELPS, Michael         18\n",
            "3320       SPITZ, Mark          9\n",
            "2714  LATYNINA, Larisa          9\n",
            "4630       LEWIS, Carl          9\n",
            "907       NURMI, Paavo          9\n",
            "\n",
            "\n"
          ]
        },
        {
          "output_type": "execute_result",
          "data": {
            "text/plain": [
              "<matplotlib.axes._subplots.AxesSubplot at 0x7ffae00d7750>"
            ]
          },
          "metadata": {},
          "execution_count": 21
        },
        {
          "output_type": "display_data",
          "data": {
            "image/png": "[encoded data removed]",
            "text/plain": [
              "<Figure size 720x360 with 1 Axes>"
            ]
          },
          "metadata": {
            "needs_background": "light"
          }
        }
      ]
    },
    {
      "cell_type": "markdown",
      "metadata": {
        "id": "1gE5fHBmeZdl"
      },
      "source": [
        "**6.In which year India won first Gold Medal in Summer Olympics?**"
      ]
    },
    {
      "cell_type": "code",
      "metadata": {
        "colab": {
          "base_uri": "https://localhost:8080/"
        },
        "id": "N55e-aVWeZpX",
        "outputId": "d0744d9f-d0d6-4340-e793-4c1373bac582"
      },
      "source": [
        "df = pd.read_csv('summer.csv')                                                  \n",
        "\n",
        "gold_data= df[df[\"Medal\"]==\"Gold\"]                                              \n",
        "india_gold = gold_data[gold_data['Country'] == 'IND'].head(1)                   \n",
        "                                                                                \n",
        "year = int(india_gold['Year'])                                                  \n",
        "print('India Won its First Summer Olympic Medal in',year)"
      ],
      "execution_count": 20,
      "outputs": [
        {
          "output_type": "stream",
          "name": "stdout",
          "text": [
            "India Won its First Summer Olympic Medal in 1928\n"
          ]
        }
      ]
    },
    {
      "cell_type": "markdown",
      "metadata": {
        "id": "hgNl_bYPeZzs"
      },
      "source": [
        "**7. Which event is most popular in terms on number of players? (Top 5)**"
      ]
    },
    {
      "cell_type": "code",
      "metadata": {
        "colab": {
          "base_uri": "https://localhost:8080/",
          "height": 654
        },
        "id": "USCJUzaoeZ9I",
        "outputId": "4bf0aa2a-636d-4773-e646-1e9e5fc2acae"
      },
      "source": [
        "import pandas as pd \n",
        "\n",
        "df = pd.read_csv('summer.csv')                                                  \n",
        "\n",
        "data=[]\n",
        "\n",
        "for event in df['Event'].unique():\n",
        "  event_df = df[df['Event']==event]                                             \n",
        "  players = len(event_df['Athlete'].unique())                                   \n",
        "  data.append([event , players])\n",
        "\n",
        "player = pd.DataFrame(data,columns=['Event','Num_players'])                     \n",
        "player=player.sort_values(by= 'Num_players', ascending= False).head()           \n",
        "\n",
        "print('Top 5 Sport Events whose having most unique players \\n')\n",
        "print(player)                                                                   \n",
        "print('\\n')\n",
        "\n",
        "player.plot(x = 'Event' , y = 'Num_players', ylabel= 'Number of players', kind = 'bar', figsize = (10,5), title = 'Number of Unique players in any sport events (Top 5)')"
      ],
      "execution_count": 18,
      "outputs": [
        {
          "output_type": "stream",
          "name": "stdout",
          "text": [
            "Top 5 Sport Events whose having most unique players \n",
            "\n",
            "                        Event  Num_players\n",
            "80                   Football         1357\n",
            "176                    Hockey         1154\n",
            "138          Team Competition          975\n",
            "83   Eight With Coxswain (8+)          828\n",
            "327                Basketball          814\n",
            "\n",
            "\n"
          ]
        },
        {
          "output_type": "execute_result",
          "data": {
            "text/plain": [
              "<matplotlib.axes._subplots.AxesSubplot at 0x7ffae09fe490>"
            ]
          },
          "metadata": {},
          "execution_count": 18
        },
        {
          "output_type": "display_data",
          "data": {
            "image/png": "[encoded data removed]",
            "text/plain": [
              "<Figure size 720x360 with 1 Axes>"
            ]
          },
          "metadata": {
            "needs_background": "light"
          }
        }
      ]
    },
    {
      "cell_type": "markdown",
      "metadata": {
        "id": "huU-jaBbeaO3"
      },
      "source": [
        "**8. Which sport is having most female Gold Medalists? (Top 5)**"
      ]
    },
    {
      "cell_type": "code",
      "metadata": {
        "colab": {
          "base_uri": "https://localhost:8080/",
          "height": 585
        },
        "id": "PqPYx7BHeaXc",
        "outputId": "e433c2f7-6321-47aa-a009-7dfd1a7984c4"
      },
      "source": [
        "df = pd.read_csv('summer.csv')                                                  \n",
        "\n",
        "female_data= df[df['Gender'] == \"Women\"]                                        \n",
        "gold_data= female_data[female_data[\"Medal\"]==\"Gold\"]                            \n",
        "data=[]\n",
        "\n",
        "for sport in gold_data['Sport'].unique():\n",
        "  data.append([sport , len(gold_data[gold_data['Sport']  == sport])])           \n",
        "medal = pd.DataFrame(data, columns=['Sport','Num_Medal'])                       \n",
        "medal = medal.sort_values(by = 'Num_Medal', ascending = False).head()           \n",
        "\n",
        "print('Top 5 sports having most medal won by Female \\n')\n",
        "print(medal)                                                                    \n",
        "print('\\n')\n",
        "\n",
        "medal.plot(x = 'Sport' , y = 'Num_Medal', ylabel= 'Number of Medal', kind = 'bar', figsize = (10,5), title = 'Most Medal won in Sports by Female (Top 5)')"
      ],
      "execution_count": 19,
      "outputs": [
        {
          "output_type": "stream",
          "name": "stdout",
          "text": [
            "Top 5 sports having most medal won by Female \n",
            "\n",
            "         Sport  Num_Medal\n",
            "4     Aquatics        589\n",
            "7    Athletics        389\n",
            "8   Gymnastics        268\n",
            "14      Rowing        217\n",
            "11  Volleyball        166\n",
            "\n",
            "\n"
          ]
        },
        {
          "output_type": "execute_result",
          "data": {
            "text/plain": [
              "<matplotlib.axes._subplots.AxesSubplot at 0x7ffae002a590>"
            ]
          },
          "metadata": {},
          "execution_count": 19
        },
        {
          "output_type": "display_data",
          "data": {
            "image/png": "[encoded data removed]",
            "text/plain": [
              "<Figure size 720x360 with 1 Axes>"
            ]
          },
          "metadata": {
            "needs_background": "light"
          }
        }
      ]
    }
  ]
}